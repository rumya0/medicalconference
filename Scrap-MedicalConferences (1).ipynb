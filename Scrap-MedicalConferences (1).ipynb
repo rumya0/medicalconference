{
 "cells": [
  {
   "cell_type": "code",
   "execution_count": 1,
   "metadata": {},
   "outputs": [],
   "source": [
    "# Import dependencies\n",
    "import scrapy\n",
    "from scrapy.crawler import CrawlerProcess\n",
    "import pandas as pd"
   ]
  },
  {
   "cell_type": "code",
   "execution_count": 2,
   "metadata": {},
   "outputs": [],
   "source": [
    "# Scrapper\n",
    "# ============================================\n",
    "# li.list-group.item = Conference list Item\n",
    "# a[title] = Conference title\n",
    "# time = Conference date\n",
    "# place = Conference venue\n",
    "# ============================================\n",
    "class MediConferencesSpider(scrapy.Spider):\n",
    "    name = 'MediConferencesSpider'\n",
    "    start_urls = ['https://www.omicsonline.org/medical-conferences.php']\n",
    "\n",
    "    def parse(self, response):\n",
    "        for item in response.css('li.list-group-item'):\n",
    "            yield {\n",
    "                'title': item.css('a[title] ::text').get(default='not-found'),\n",
    "                'time': item.css('time ::attr(\"datetime\")').get(default='not-found'),                \n",
    "                'place': item.css('em ::text').get(default='not-found')\n",
    "            }                                "
   ]
  },
  {
   "cell_type": "code",
   "execution_count": null,
   "metadata": {},
   "outputs": [],
   "source": [
    "# to get a json output\n",
    "process = CrawlerProcess(settings={\n",
    "    'FEED_FORMAT': 'json',\n",
    "    'FEED_URI': 'conferences.json'\n",
    "})\n",
    "\n",
    "# do the actual run\n",
    "process.crawl(MediConferencesSpider)\n",
    "process.start()\n",
    "process.stop()"
   ]
  },
  {
   "cell_type": "code",
   "execution_count": null,
   "metadata": {},
   "outputs": [],
   "source": [
    "# Display the data using pandas\n",
    "conferences_json = pd.read_json('conferences.json')\n",
    "conferences_json"
   ]
  },
  {
   "cell_type": "code",
   "execution_count": null,
   "metadata": {},
   "outputs": [],
   "source": [
    "# to get a csv output\n",
    "process = CrawlerProcess(settings={\n",
    "    'FEED_FORMAT': 'csv',\n",
    "    'FEED_URI': 'conferences.csv'\n",
    "})\n",
    "\n",
    "# do the actual run\n",
    "process.crawl(MediConferencesSpider)\n",
    "process.start()\n",
    "process.stop()"
   ]
  },
  {
   "cell_type": "markdown",
   "metadata": {},
   "source": [
    "# References\n",
    "\n",
    "https://www.omicsonline.org/medical-conferences.php\n",
    "\n",
    "https://docs.scrapy.org/en/latest/topics/selectors.html"
   ]
  },
  {
   "cell_type": "code",
   "execution_count": null,
   "metadata": {},
   "outputs": [],
   "source": []
  }
 ],
 "metadata": {
  "kernelspec": {
   "display_name": "Python 3",
   "language": "python",
   "name": "python3"
  },
  "language_info": {
   "codemirror_mode": {
    "name": "ipython",
    "version": 3
   },
   "file_extension": ".py",
   "mimetype": "text/x-python",
   "name": "python",
   "nbconvert_exporter": "python",
   "pygments_lexer": "ipython3",
   "version": "3.7.1"
  }
 },
 "nbformat": 4,
 "nbformat_minor": 4
}
